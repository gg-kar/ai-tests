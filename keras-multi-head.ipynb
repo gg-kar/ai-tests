{
 "cells": [
  {
   "cell_type": "code",
   "execution_count": 1,
   "metadata": {},
   "outputs": [],
   "source": [
    "import tensorflow as tf\n",
    "import numpy as np"
   ]
  },
  {
   "cell_type": "code",
   "execution_count": 2,
   "metadata": {},
   "outputs": [],
   "source": [
    "from tensorflow.keras.datasets import cifar10\n",
    "(x_train, y_train), (x_test, y_test) = cifar10.load_data()\n",
    "x_train, x_test = [x/255.0 for x in [x_train, x_test]]\n",
    "# class 5 vs others\n",
    "y1_train, y1_test = [tf.keras.utils.to_categorical(x==5) for x in [y_train, y_test]]\n",
    "# class 1 vs class2 vs others\n",
    "y2_train, y2_test = [tf.keras.utils.to_categorical(np.clip(x,0,2)) for x in [y_train, y_test]]"
   ]
  },
  {
   "cell_type": "code",
   "execution_count": 3,
   "metadata": {},
   "outputs": [],
   "source": [
    "from tensorflow.keras import Input\n",
    "from tensorflow.keras.models import Model\n",
    "from tensorflow.keras.layers import Flatten, Dropout, Dense, MaxPooling2D, Conv2D\n",
    "def create_model(activation='elu'):\n",
    "    x = in1 = Input((32,32,3))\n",
    "    \n",
    "    x = Conv2D(64, (3,3), padding='same', activation=activation)(x)\n",
    "    x = Conv2D(64, (3,3), padding='same', activation=activation)(x)\n",
    "    x = MaxPooling2D(pool_size=(2, 2))(x)\n",
    "    \n",
    "    x = Conv2D(64, (3,3), padding='same', activation=activation)(x)\n",
    "    x = Conv2D(64, (3,3), padding='same', activation=activation)(x)\n",
    "    x = MaxPooling2D(pool_size=(2, 2))(x)\n",
    "    \n",
    "    x = Flatten()(x)\n",
    "    x = Dense(512, activation=activation)(x)\n",
    "    x = Dropout(0.5)(x)\n",
    "    out1 = Dense(2, activation='softmax', name = 'out1_binary')(x)\n",
    "    out2 = Dense(3, activation='softmax', name = 'out2_3class')(x)\n",
    "    m = Model(inputs = in1, outputs = [out1,out2])\n",
    "    m.compile('adam', loss={'out1_binary':'binary_crossentropy', \n",
    "                            'out2_3class':'categorical_crossentropy'},\n",
    "                            metrics=['accuracy'])\n",
    "    return m"
   ]
  },
  {
   "cell_type": "code",
   "execution_count": 4,
   "metadata": {
    "scrolled": true
   },
   "outputs": [
    {
     "name": "stdout",
     "output_type": "stream",
     "text": [
      "Model: \"model\"\n",
      "__________________________________________________________________________________________________\n",
      "Layer (type)                    Output Shape         Param #     Connected to                     \n",
      "==================================================================================================\n",
      "input_1 (InputLayer)            [(None, 32, 32, 3)]  0                                            \n",
      "__________________________________________________________________________________________________\n",
      "conv2d (Conv2D)                 (None, 32, 32, 64)   1792        input_1[0][0]                    \n",
      "__________________________________________________________________________________________________\n",
      "conv2d_1 (Conv2D)               (None, 32, 32, 64)   36928       conv2d[0][0]                     \n",
      "__________________________________________________________________________________________________\n",
      "max_pooling2d (MaxPooling2D)    (None, 16, 16, 64)   0           conv2d_1[0][0]                   \n",
      "__________________________________________________________________________________________________\n",
      "conv2d_2 (Conv2D)               (None, 16, 16, 64)   36928       max_pooling2d[0][0]              \n",
      "__________________________________________________________________________________________________\n",
      "conv2d_3 (Conv2D)               (None, 16, 16, 64)   36928       conv2d_2[0][0]                   \n",
      "__________________________________________________________________________________________________\n",
      "max_pooling2d_1 (MaxPooling2D)  (None, 8, 8, 64)     0           conv2d_3[0][0]                   \n",
      "__________________________________________________________________________________________________\n",
      "flatten (Flatten)               (None, 4096)         0           max_pooling2d_1[0][0]            \n",
      "__________________________________________________________________________________________________\n",
      "dense (Dense)                   (None, 512)          2097664     flatten[0][0]                    \n",
      "__________________________________________________________________________________________________\n",
      "dropout (Dropout)               (None, 512)          0           dense[0][0]                      \n",
      "__________________________________________________________________________________________________\n",
      "out1_binary (Dense)             (None, 2)            1026        dropout[0][0]                    \n",
      "__________________________________________________________________________________________________\n",
      "out2_3class (Dense)             (None, 3)            1539        dropout[0][0]                    \n",
      "==================================================================================================\n",
      "Total params: 2,212,805\n",
      "Trainable params: 2,212,805\n",
      "Non-trainable params: 0\n",
      "__________________________________________________________________________________________________\n",
      "None\n"
     ]
    }
   ],
   "source": [
    "model = create_model()\n",
    "print(model.summary())"
   ]
  },
  {
   "cell_type": "code",
   "execution_count": 5,
   "metadata": {
    "scrolled": true
   },
   "outputs": [
    {
     "name": "stdout",
     "output_type": "stream",
     "text": [
      "Train on 50000 samples\n",
      "Epoch 1/25\n",
      "50000/50000 [==============================] - 26s 513us/sample - loss: 0.7171 - out1_binary_loss: 0.2648 - out2_3class_loss: 0.4522 - out1_binary_accuracy: 0.9052 - out2_3class_accuracy: 0.8341\n",
      "Epoch 2/25\n",
      "50000/50000 [==============================] - 12s 239us/sample - loss: 0.5518 - out1_binary_loss: 0.2228 - out2_3class_loss: 0.3289 - out1_binary_accuracy: 0.9145 - out2_3class_accuracy: 0.8753\n",
      "Epoch 3/25\n",
      "50000/50000 [==============================] - 12s 239us/sample - loss: 0.4997 - out1_binary_loss: 0.2120 - out2_3class_loss: 0.2876 - out1_binary_accuracy: 0.9193 - out2_3class_accuracy: 0.8919\n",
      "Epoch 4/25\n",
      "50000/50000 [==============================] - 12s 238us/sample - loss: 0.4527 - out1_binary_loss: 0.1981 - out2_3class_loss: 0.2545 - out1_binary_accuracy: 0.9247 - out2_3class_accuracy: 0.9049\n",
      "Epoch 5/25\n",
      "50000/50000 [==============================] - 12s 241us/sample - loss: 0.4170 - out1_binary_loss: 0.1874 - out2_3class_loss: 0.2296 - out1_binary_accuracy: 0.9276 - out2_3class_accuracy: 0.9140\n",
      "Epoch 6/25\n",
      "50000/50000 [==============================] - 12s 239us/sample - loss: 0.3789 - out1_binary_loss: 0.1767 - out2_3class_loss: 0.2022 - out1_binary_accuracy: 0.9318 - out2_3class_accuracy: 0.9232\n",
      "Epoch 7/25\n",
      "50000/50000 [==============================] - 12s 238us/sample - loss: 0.3411 - out1_binary_loss: 0.1611 - out2_3class_loss: 0.1800 - out1_binary_accuracy: 0.9372 - out2_3class_accuracy: 0.9323\n",
      "Epoch 8/25\n",
      "50000/50000 [==============================] - 12s 238us/sample - loss: 0.2944 - out1_binary_loss: 0.1426 - out2_3class_loss: 0.1519 - out1_binary_accuracy: 0.9448 - out2_3class_accuracy: 0.9430\n",
      "Epoch 9/25\n",
      "50000/50000 [==============================] - 12s 238us/sample - loss: 0.2558 - out1_binary_loss: 0.1277 - out2_3class_loss: 0.1280 - out1_binary_accuracy: 0.9503 - out2_3class_accuracy: 0.9520\n",
      "Epoch 10/25\n",
      "50000/50000 [==============================] - 12s 239us/sample - loss: 0.2096 - out1_binary_loss: 0.1070 - out2_3class_loss: 0.1026 - out1_binary_accuracy: 0.9583 - out2_3class_accuracy: 0.9612\n",
      "Epoch 11/25\n",
      "50000/50000 [==============================] - 12s 238us/sample - loss: 0.1805 - out1_binary_loss: 0.0885 - out2_3class_loss: 0.0921 - out1_binary_accuracy: 0.9657 - out2_3class_accuracy: 0.9661\n",
      "Epoch 12/25\n",
      "50000/50000 [==============================] - 12s 238us/sample - loss: 0.1594 - out1_binary_loss: 0.0775 - out2_3class_loss: 0.0820 - out1_binary_accuracy: 0.9706 - out2_3class_accuracy: 0.9702\n",
      "Epoch 13/25\n",
      "50000/50000 [==============================] - 12s 238us/sample - loss: 0.1279 - out1_binary_loss: 0.0609 - out2_3class_loss: 0.0669 - out1_binary_accuracy: 0.9772 - out2_3class_accuracy: 0.9756\n",
      "Epoch 14/25\n",
      "50000/50000 [==============================] - 12s 239us/sample - loss: 0.1221 - out1_binary_loss: 0.0618 - out2_3class_loss: 0.0603 - out1_binary_accuracy: 0.9774 - out2_3class_accuracy: 0.9781\n",
      "Epoch 15/25\n",
      "50000/50000 [==============================] - 12s 238us/sample - loss: 0.1064 - out1_binary_loss: 0.0488 - out2_3class_loss: 0.0575 - out1_binary_accuracy: 0.9819 - out2_3class_accuracy: 0.9800\n",
      "Epoch 16/25\n",
      "50000/50000 [==============================] - 12s 239us/sample - loss: 0.1022 - out1_binary_loss: 0.0463 - out2_3class_loss: 0.0558 - out1_binary_accuracy: 0.9832 - out2_3class_accuracy: 0.9806\n",
      "Epoch 17/25\n",
      "50000/50000 [==============================] - 12s 238us/sample - loss: 0.0944 - out1_binary_loss: 0.0427 - out2_3class_loss: 0.0517 - out1_binary_accuracy: 0.9845 - out2_3class_accuracy: 0.9828\n",
      "Epoch 18/25\n",
      "50000/50000 [==============================] - 12s 238us/sample - loss: 0.0952 - out1_binary_loss: 0.0469 - out2_3class_loss: 0.0483 - out1_binary_accuracy: 0.9837 - out2_3class_accuracy: 0.9836\n",
      "Epoch 19/25\n",
      "50000/50000 [==============================] - 12s 237us/sample - loss: 0.0966 - out1_binary_loss: 0.0437 - out2_3class_loss: 0.0529 - out1_binary_accuracy: 0.9848 - out2_3class_accuracy: 0.9824\n",
      "Epoch 20/25\n",
      "50000/50000 [==============================] - 12s 238us/sample - loss: 0.0817 - out1_binary_loss: 0.0351 - out2_3class_loss: 0.0465 - out1_binary_accuracy: 0.9873 - out2_3class_accuracy: 0.9843\n",
      "Epoch 21/25\n",
      "50000/50000 [==============================] - 12s 240us/sample - loss: 0.0807 - out1_binary_loss: 0.0340 - out2_3class_loss: 0.0467 - out1_binary_accuracy: 0.9883 - out2_3class_accuracy: 0.9856\n",
      "Epoch 22/25\n",
      "50000/50000 [==============================] - 12s 239us/sample - loss: 0.0753 - out1_binary_loss: 0.0364 - out2_3class_loss: 0.0389 - out1_binary_accuracy: 0.9878 - out2_3class_accuracy: 0.9865\n",
      "Epoch 23/25\n",
      "50000/50000 [==============================] - 12s 237us/sample - loss: 0.0824 - out1_binary_loss: 0.0369 - out2_3class_loss: 0.0455 - out1_binary_accuracy: 0.9880 - out2_3class_accuracy: 0.9859\n",
      "Epoch 24/25\n",
      "50000/50000 [==============================] - 12s 238us/sample - loss: 0.0683 - out1_binary_loss: 0.0310 - out2_3class_loss: 0.0374 - out1_binary_accuracy: 0.9894 - out2_3class_accuracy: 0.9879\n",
      "Epoch 25/25\n",
      "50000/50000 [==============================] - 12s 237us/sample - loss: 0.0754 - out1_binary_loss: 0.0319 - out2_3class_loss: 0.0434 - out1_binary_accuracy: 0.9889 - out2_3class_accuracy: 0.9863\n"
     ]
    },
    {
     "data": {
      "text/plain": [
       "<tensorflow.python.keras.callbacks.History at 0x7fe3cf42e6a0>"
      ]
     },
     "execution_count": 5,
     "metadata": {},
     "output_type": "execute_result"
    }
   ],
   "source": [
    "model.fit(x_train, [y1_train,y2_train], batch_size=128, epochs=25)"
   ]
  }
 ],
 "metadata": {
  "kernelspec": {
   "display_name": "Python 3",
   "language": "python",
   "name": "python3"
  },
  "language_info": {
   "codemirror_mode": {
    "name": "ipython",
    "version": 3
   },
   "file_extension": ".py",
   "mimetype": "text/x-python",
   "name": "python",
   "nbconvert_exporter": "python",
   "pygments_lexer": "ipython3",
   "version": "3.5.2"
  }
 },
 "nbformat": 4,
 "nbformat_minor": 4
}
